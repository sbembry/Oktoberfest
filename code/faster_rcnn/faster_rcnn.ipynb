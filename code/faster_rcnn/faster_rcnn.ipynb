{
  "nbformat": 4,
  "nbformat_minor": 5,
  "metadata": {
    "kernelspec": {
      "display_name": "Python 3",
      "language": "python",
      "name": "python3"
    },
    "language_info": {
      "codemirror_mode": {
        "name": "ipython",
        "version": 3
      },
      "file_extension": ".py",
      "mimetype": "text/x-python",
      "name": "python",
      "nbconvert_exporter": "python",
      "pygments_lexer": "ipython3",
      "version": "3.8.5"
    },
    "colab": {
      "name": "faster_rcnn.ipynb",
      "provenance": [],
      "collapsed_sections": []
    },
    "accelerator": "GPU"
  },
  "cells": [
    {
      "cell_type": "code",
      "metadata": {
        "id": "developmental-tuning"
      },
      "source": [
        "import os.path\n",
        "\n",
        "import cv2\n",
        "import numpy as np\n",
        "import requests\n",
        "import torchvision\n",
        "import torchvision.transforms as transforms\n",
        "from torch import nn\n",
        "from net import *\n",
        "from Dataset import *\n",
        "from engine import train_one_epoch, evaluate\n",
        "import utils\n",
        "\n",
        "device = torch.device('cuda') if torch.cuda.is_available() else torch.device('cpu')\n"
      ],
      "id": "developmental-tuning",
      "execution_count": 1,
      "outputs": []
    },
    {
      "cell_type": "markdown",
      "metadata": {
        "id": "raising-organ"
      },
      "source": [
        "## Install pycocotools"
      ],
      "id": "raising-organ"
    },
    {
      "cell_type": "code",
      "metadata": {
        "id": "systematic-quarterly"
      },
      "source": [
        "def get_data(path):\n",
        "    file = open(path, 'r')\n",
        "    lines = []\n",
        "    while True:\n",
        "\n",
        "        # Get next line from file\n",
        "        line = file.readline()\n",
        "        # if line is empty\n",
        "        # end of file is reached\n",
        "        if not line:\n",
        "            break\n",
        "        lines.append(line)\n",
        "    return lines"
      ],
      "id": "systematic-quarterly",
      "execution_count": 2,
      "outputs": []
    },
    {
      "cell_type": "code",
      "metadata": {
        "id": "welsh-patch"
      },
      "source": [
        "train_lines = get_data('train/files.txt')\n",
        "test_lines = get_data('test/files.txt')"
      ],
      "id": "welsh-patch",
      "execution_count": 3,
      "outputs": []
    },
    {
      "cell_type": "code",
      "metadata": {
        "id": "diverse-percentage"
      },
      "source": [
        "from sklearn.model_selection import train_test_split\n",
        "stacks = list(set([d.split()[0].split('_')[0] for d in train_lines]))\n",
        "train_stacks, val_stacks = train_test_split(list(stacks), random_state=1)\n",
        "train_stacks = set(train_stacks)\n",
        "val_stacks = set(val_stacks)"
      ],
      "id": "diverse-percentage",
      "execution_count": 4,
      "outputs": []
    },
    {
      "cell_type": "code",
      "metadata": {
        "id": "southwest-jenny"
      },
      "source": [
        "train_data, val_data = [], []\n",
        "for d in train_lines:\n",
        "    stack = d.split()[0].split('_')[0]\n",
        "    if stack in train_stacks:\n",
        "        train_data.append(d)\n",
        "    else:\n",
        "        val_data.append(d)"
      ],
      "id": "southwest-jenny",
      "execution_count": 5,
      "outputs": []
    },
    {
      "cell_type": "code",
      "metadata": {
        "id": "entertaining-prediction"
      },
      "source": [
        "ds_train = OktoberfestDataset(train_data, 'train')\n",
        "ds_val = OktoberfestDataset(val_data, 'train')\n",
        "ds_test = OktoberfestDataset(test_lines, 'test')"
      ],
      "id": "entertaining-prediction",
      "execution_count": 6,
      "outputs": []
    },
    {
      "cell_type": "code",
      "metadata": {
        "id": "touched-study"
      },
      "source": [
        "dataloader_train = torch.utils.data.DataLoader(\n",
        "    ds_train, batch_size=9,shuffle=True, num_workers=1, collate_fn=utils.collate_fn)\n",
        "dataloader_val = torch.utils.data.DataLoader(\n",
        "    ds_val, batch_size=11,shuffle=False, num_workers=1, collate_fn=utils.collate_fn)\n",
        "dataloader_test = torch.utils.data.DataLoader(\n",
        "    ds_test, batch_size=43,shuffle=False, num_workers=1, collate_fn=utils.collate_fn)"
      ],
      "id": "touched-study",
      "execution_count": 7,
      "outputs": []
    },
    {
      "cell_type": "code",
      "metadata": {
        "colab": {
          "base_uri": "https://localhost:8080/"
        },
        "id": "fiscal-friendly",
        "outputId": "a609571e-d747-4e77-a0fd-0a23d9edc26d"
      },
      "source": [
        "from torchvision.models.detection.faster_rcnn import FastRCNNPredictor\n",
        "\n",
        "# load a model pre-trained pre-trained on COCO\n",
        "model = torchvision.models.detection.fasterrcnn_resnet50_fpn(pretrained=True)\n",
        "num_classes = 16  # 15 class + background\n",
        "\n",
        "# get number of input features for the classifier\n",
        "in_features = model.roi_heads.box_predictor.cls_score.in_features\n",
        "\n",
        "# replace the pre-trained head with a new one\n",
        "model.roi_heads.box_predictor = FastRCNNPredictor(in_features, num_classes)\n",
        "model.to(device)"
      ],
      "id": "fiscal-friendly",
      "execution_count": 8,
      "outputs": [
        {
          "output_type": "execute_result",
          "data": {
            "text/plain": [
              "FasterRCNN(\n",
              "  (transform): GeneralizedRCNNTransform(\n",
              "      Normalize(mean=[0.485, 0.456, 0.406], std=[0.229, 0.224, 0.225])\n",
              "      Resize(min_size=(800,), max_size=1333, mode='bilinear')\n",
              "  )\n",
              "  (backbone): BackboneWithFPN(\n",
              "    (body): IntermediateLayerGetter(\n",
              "      (conv1): Conv2d(3, 64, kernel_size=(7, 7), stride=(2, 2), padding=(3, 3), bias=False)\n",
              "      (bn1): FrozenBatchNorm2d(64, eps=0.0)\n",
              "      (relu): ReLU(inplace=True)\n",
              "      (maxpool): MaxPool2d(kernel_size=3, stride=2, padding=1, dilation=1, ceil_mode=False)\n",
              "      (layer1): Sequential(\n",
              "        (0): Bottleneck(\n",
              "          (conv1): Conv2d(64, 64, kernel_size=(1, 1), stride=(1, 1), bias=False)\n",
              "          (bn1): FrozenBatchNorm2d(64, eps=0.0)\n",
              "          (conv2): Conv2d(64, 64, kernel_size=(3, 3), stride=(1, 1), padding=(1, 1), bias=False)\n",
              "          (bn2): FrozenBatchNorm2d(64, eps=0.0)\n",
              "          (conv3): Conv2d(64, 256, kernel_size=(1, 1), stride=(1, 1), bias=False)\n",
              "          (bn3): FrozenBatchNorm2d(256, eps=0.0)\n",
              "          (relu): ReLU(inplace=True)\n",
              "          (downsample): Sequential(\n",
              "            (0): Conv2d(64, 256, kernel_size=(1, 1), stride=(1, 1), bias=False)\n",
              "            (1): FrozenBatchNorm2d(256, eps=0.0)\n",
              "          )\n",
              "        )\n",
              "        (1): Bottleneck(\n",
              "          (conv1): Conv2d(256, 64, kernel_size=(1, 1), stride=(1, 1), bias=False)\n",
              "          (bn1): FrozenBatchNorm2d(64, eps=0.0)\n",
              "          (conv2): Conv2d(64, 64, kernel_size=(3, 3), stride=(1, 1), padding=(1, 1), bias=False)\n",
              "          (bn2): FrozenBatchNorm2d(64, eps=0.0)\n",
              "          (conv3): Conv2d(64, 256, kernel_size=(1, 1), stride=(1, 1), bias=False)\n",
              "          (bn3): FrozenBatchNorm2d(256, eps=0.0)\n",
              "          (relu): ReLU(inplace=True)\n",
              "        )\n",
              "        (2): Bottleneck(\n",
              "          (conv1): Conv2d(256, 64, kernel_size=(1, 1), stride=(1, 1), bias=False)\n",
              "          (bn1): FrozenBatchNorm2d(64, eps=0.0)\n",
              "          (conv2): Conv2d(64, 64, kernel_size=(3, 3), stride=(1, 1), padding=(1, 1), bias=False)\n",
              "          (bn2): FrozenBatchNorm2d(64, eps=0.0)\n",
              "          (conv3): Conv2d(64, 256, kernel_size=(1, 1), stride=(1, 1), bias=False)\n",
              "          (bn3): FrozenBatchNorm2d(256, eps=0.0)\n",
              "          (relu): ReLU(inplace=True)\n",
              "        )\n",
              "      )\n",
              "      (layer2): Sequential(\n",
              "        (0): Bottleneck(\n",
              "          (conv1): Conv2d(256, 128, kernel_size=(1, 1), stride=(1, 1), bias=False)\n",
              "          (bn1): FrozenBatchNorm2d(128, eps=0.0)\n",
              "          (conv2): Conv2d(128, 128, kernel_size=(3, 3), stride=(2, 2), padding=(1, 1), bias=False)\n",
              "          (bn2): FrozenBatchNorm2d(128, eps=0.0)\n",
              "          (conv3): Conv2d(128, 512, kernel_size=(1, 1), stride=(1, 1), bias=False)\n",
              "          (bn3): FrozenBatchNorm2d(512, eps=0.0)\n",
              "          (relu): ReLU(inplace=True)\n",
              "          (downsample): Sequential(\n",
              "            (0): Conv2d(256, 512, kernel_size=(1, 1), stride=(2, 2), bias=False)\n",
              "            (1): FrozenBatchNorm2d(512, eps=0.0)\n",
              "          )\n",
              "        )\n",
              "        (1): Bottleneck(\n",
              "          (conv1): Conv2d(512, 128, kernel_size=(1, 1), stride=(1, 1), bias=False)\n",
              "          (bn1): FrozenBatchNorm2d(128, eps=0.0)\n",
              "          (conv2): Conv2d(128, 128, kernel_size=(3, 3), stride=(1, 1), padding=(1, 1), bias=False)\n",
              "          (bn2): FrozenBatchNorm2d(128, eps=0.0)\n",
              "          (conv3): Conv2d(128, 512, kernel_size=(1, 1), stride=(1, 1), bias=False)\n",
              "          (bn3): FrozenBatchNorm2d(512, eps=0.0)\n",
              "          (relu): ReLU(inplace=True)\n",
              "        )\n",
              "        (2): Bottleneck(\n",
              "          (conv1): Conv2d(512, 128, kernel_size=(1, 1), stride=(1, 1), bias=False)\n",
              "          (bn1): FrozenBatchNorm2d(128, eps=0.0)\n",
              "          (conv2): Conv2d(128, 128, kernel_size=(3, 3), stride=(1, 1), padding=(1, 1), bias=False)\n",
              "          (bn2): FrozenBatchNorm2d(128, eps=0.0)\n",
              "          (conv3): Conv2d(128, 512, kernel_size=(1, 1), stride=(1, 1), bias=False)\n",
              "          (bn3): FrozenBatchNorm2d(512, eps=0.0)\n",
              "          (relu): ReLU(inplace=True)\n",
              "        )\n",
              "        (3): Bottleneck(\n",
              "          (conv1): Conv2d(512, 128, kernel_size=(1, 1), stride=(1, 1), bias=False)\n",
              "          (bn1): FrozenBatchNorm2d(128, eps=0.0)\n",
              "          (conv2): Conv2d(128, 128, kernel_size=(3, 3), stride=(1, 1), padding=(1, 1), bias=False)\n",
              "          (bn2): FrozenBatchNorm2d(128, eps=0.0)\n",
              "          (conv3): Conv2d(128, 512, kernel_size=(1, 1), stride=(1, 1), bias=False)\n",
              "          (bn3): FrozenBatchNorm2d(512, eps=0.0)\n",
              "          (relu): ReLU(inplace=True)\n",
              "        )\n",
              "      )\n",
              "      (layer3): Sequential(\n",
              "        (0): Bottleneck(\n",
              "          (conv1): Conv2d(512, 256, kernel_size=(1, 1), stride=(1, 1), bias=False)\n",
              "          (bn1): FrozenBatchNorm2d(256, eps=0.0)\n",
              "          (conv2): Conv2d(256, 256, kernel_size=(3, 3), stride=(2, 2), padding=(1, 1), bias=False)\n",
              "          (bn2): FrozenBatchNorm2d(256, eps=0.0)\n",
              "          (conv3): Conv2d(256, 1024, kernel_size=(1, 1), stride=(1, 1), bias=False)\n",
              "          (bn3): FrozenBatchNorm2d(1024, eps=0.0)\n",
              "          (relu): ReLU(inplace=True)\n",
              "          (downsample): Sequential(\n",
              "            (0): Conv2d(512, 1024, kernel_size=(1, 1), stride=(2, 2), bias=False)\n",
              "            (1): FrozenBatchNorm2d(1024, eps=0.0)\n",
              "          )\n",
              "        )\n",
              "        (1): Bottleneck(\n",
              "          (conv1): Conv2d(1024, 256, kernel_size=(1, 1), stride=(1, 1), bias=False)\n",
              "          (bn1): FrozenBatchNorm2d(256, eps=0.0)\n",
              "          (conv2): Conv2d(256, 256, kernel_size=(3, 3), stride=(1, 1), padding=(1, 1), bias=False)\n",
              "          (bn2): FrozenBatchNorm2d(256, eps=0.0)\n",
              "          (conv3): Conv2d(256, 1024, kernel_size=(1, 1), stride=(1, 1), bias=False)\n",
              "          (bn3): FrozenBatchNorm2d(1024, eps=0.0)\n",
              "          (relu): ReLU(inplace=True)\n",
              "        )\n",
              "        (2): Bottleneck(\n",
              "          (conv1): Conv2d(1024, 256, kernel_size=(1, 1), stride=(1, 1), bias=False)\n",
              "          (bn1): FrozenBatchNorm2d(256, eps=0.0)\n",
              "          (conv2): Conv2d(256, 256, kernel_size=(3, 3), stride=(1, 1), padding=(1, 1), bias=False)\n",
              "          (bn2): FrozenBatchNorm2d(256, eps=0.0)\n",
              "          (conv3): Conv2d(256, 1024, kernel_size=(1, 1), stride=(1, 1), bias=False)\n",
              "          (bn3): FrozenBatchNorm2d(1024, eps=0.0)\n",
              "          (relu): ReLU(inplace=True)\n",
              "        )\n",
              "        (3): Bottleneck(\n",
              "          (conv1): Conv2d(1024, 256, kernel_size=(1, 1), stride=(1, 1), bias=False)\n",
              "          (bn1): FrozenBatchNorm2d(256, eps=0.0)\n",
              "          (conv2): Conv2d(256, 256, kernel_size=(3, 3), stride=(1, 1), padding=(1, 1), bias=False)\n",
              "          (bn2): FrozenBatchNorm2d(256, eps=0.0)\n",
              "          (conv3): Conv2d(256, 1024, kernel_size=(1, 1), stride=(1, 1), bias=False)\n",
              "          (bn3): FrozenBatchNorm2d(1024, eps=0.0)\n",
              "          (relu): ReLU(inplace=True)\n",
              "        )\n",
              "        (4): Bottleneck(\n",
              "          (conv1): Conv2d(1024, 256, kernel_size=(1, 1), stride=(1, 1), bias=False)\n",
              "          (bn1): FrozenBatchNorm2d(256, eps=0.0)\n",
              "          (conv2): Conv2d(256, 256, kernel_size=(3, 3), stride=(1, 1), padding=(1, 1), bias=False)\n",
              "          (bn2): FrozenBatchNorm2d(256, eps=0.0)\n",
              "          (conv3): Conv2d(256, 1024, kernel_size=(1, 1), stride=(1, 1), bias=False)\n",
              "          (bn3): FrozenBatchNorm2d(1024, eps=0.0)\n",
              "          (relu): ReLU(inplace=True)\n",
              "        )\n",
              "        (5): Bottleneck(\n",
              "          (conv1): Conv2d(1024, 256, kernel_size=(1, 1), stride=(1, 1), bias=False)\n",
              "          (bn1): FrozenBatchNorm2d(256, eps=0.0)\n",
              "          (conv2): Conv2d(256, 256, kernel_size=(3, 3), stride=(1, 1), padding=(1, 1), bias=False)\n",
              "          (bn2): FrozenBatchNorm2d(256, eps=0.0)\n",
              "          (conv3): Conv2d(256, 1024, kernel_size=(1, 1), stride=(1, 1), bias=False)\n",
              "          (bn3): FrozenBatchNorm2d(1024, eps=0.0)\n",
              "          (relu): ReLU(inplace=True)\n",
              "        )\n",
              "      )\n",
              "      (layer4): Sequential(\n",
              "        (0): Bottleneck(\n",
              "          (conv1): Conv2d(1024, 512, kernel_size=(1, 1), stride=(1, 1), bias=False)\n",
              "          (bn1): FrozenBatchNorm2d(512, eps=0.0)\n",
              "          (conv2): Conv2d(512, 512, kernel_size=(3, 3), stride=(2, 2), padding=(1, 1), bias=False)\n",
              "          (bn2): FrozenBatchNorm2d(512, eps=0.0)\n",
              "          (conv3): Conv2d(512, 2048, kernel_size=(1, 1), stride=(1, 1), bias=False)\n",
              "          (bn3): FrozenBatchNorm2d(2048, eps=0.0)\n",
              "          (relu): ReLU(inplace=True)\n",
              "          (downsample): Sequential(\n",
              "            (0): Conv2d(1024, 2048, kernel_size=(1, 1), stride=(2, 2), bias=False)\n",
              "            (1): FrozenBatchNorm2d(2048, eps=0.0)\n",
              "          )\n",
              "        )\n",
              "        (1): Bottleneck(\n",
              "          (conv1): Conv2d(2048, 512, kernel_size=(1, 1), stride=(1, 1), bias=False)\n",
              "          (bn1): FrozenBatchNorm2d(512, eps=0.0)\n",
              "          (conv2): Conv2d(512, 512, kernel_size=(3, 3), stride=(1, 1), padding=(1, 1), bias=False)\n",
              "          (bn2): FrozenBatchNorm2d(512, eps=0.0)\n",
              "          (conv3): Conv2d(512, 2048, kernel_size=(1, 1), stride=(1, 1), bias=False)\n",
              "          (bn3): FrozenBatchNorm2d(2048, eps=0.0)\n",
              "          (relu): ReLU(inplace=True)\n",
              "        )\n",
              "        (2): Bottleneck(\n",
              "          (conv1): Conv2d(2048, 512, kernel_size=(1, 1), stride=(1, 1), bias=False)\n",
              "          (bn1): FrozenBatchNorm2d(512, eps=0.0)\n",
              "          (conv2): Conv2d(512, 512, kernel_size=(3, 3), stride=(1, 1), padding=(1, 1), bias=False)\n",
              "          (bn2): FrozenBatchNorm2d(512, eps=0.0)\n",
              "          (conv3): Conv2d(512, 2048, kernel_size=(1, 1), stride=(1, 1), bias=False)\n",
              "          (bn3): FrozenBatchNorm2d(2048, eps=0.0)\n",
              "          (relu): ReLU(inplace=True)\n",
              "        )\n",
              "      )\n",
              "    )\n",
              "    (fpn): FeaturePyramidNetwork(\n",
              "      (inner_blocks): ModuleList(\n",
              "        (0): Conv2d(256, 256, kernel_size=(1, 1), stride=(1, 1))\n",
              "        (1): Conv2d(512, 256, kernel_size=(1, 1), stride=(1, 1))\n",
              "        (2): Conv2d(1024, 256, kernel_size=(1, 1), stride=(1, 1))\n",
              "        (3): Conv2d(2048, 256, kernel_size=(1, 1), stride=(1, 1))\n",
              "      )\n",
              "      (layer_blocks): ModuleList(\n",
              "        (0): Conv2d(256, 256, kernel_size=(3, 3), stride=(1, 1), padding=(1, 1))\n",
              "        (1): Conv2d(256, 256, kernel_size=(3, 3), stride=(1, 1), padding=(1, 1))\n",
              "        (2): Conv2d(256, 256, kernel_size=(3, 3), stride=(1, 1), padding=(1, 1))\n",
              "        (3): Conv2d(256, 256, kernel_size=(3, 3), stride=(1, 1), padding=(1, 1))\n",
              "      )\n",
              "      (extra_blocks): LastLevelMaxPool()\n",
              "    )\n",
              "  )\n",
              "  (rpn): RegionProposalNetwork(\n",
              "    (anchor_generator): AnchorGenerator()\n",
              "    (head): RPNHead(\n",
              "      (conv): Conv2d(256, 256, kernel_size=(3, 3), stride=(1, 1), padding=(1, 1))\n",
              "      (cls_logits): Conv2d(256, 3, kernel_size=(1, 1), stride=(1, 1))\n",
              "      (bbox_pred): Conv2d(256, 12, kernel_size=(1, 1), stride=(1, 1))\n",
              "    )\n",
              "  )\n",
              "  (roi_heads): RoIHeads(\n",
              "    (box_roi_pool): MultiScaleRoIAlign(featmap_names=['0', '1', '2', '3'], output_size=(7, 7), sampling_ratio=2)\n",
              "    (box_head): TwoMLPHead(\n",
              "      (fc6): Linear(in_features=12544, out_features=1024, bias=True)\n",
              "      (fc7): Linear(in_features=1024, out_features=1024, bias=True)\n",
              "    )\n",
              "    (box_predictor): FastRCNNPredictor(\n",
              "      (cls_score): Linear(in_features=1024, out_features=16, bias=True)\n",
              "      (bbox_pred): Linear(in_features=1024, out_features=64, bias=True)\n",
              "    )\n",
              "  )\n",
              ")"
            ]
          },
          "metadata": {
            "tags": []
          },
          "execution_count": 8
        }
      ]
    },
    {
      "cell_type": "code",
      "metadata": {
        "id": "assured-binding"
      },
      "source": [
        "# construct an optimizer\n",
        "params = [p for p in model.parameters() if p.requires_grad]\n",
        "optimizer = torch.optim.SGD(params, lr=0.005,\n",
        "                            momentum=0.9, weight_decay=0.0005)\n",
        "lr_scheduler = torch.optim.lr_scheduler.StepLR(optimizer,\n",
        "                                                   step_size=3,\n",
        "                                                   gamma=0.1)\n"
      ],
      "id": "assured-binding",
      "execution_count": 9,
      "outputs": []
    },
    {
      "cell_type": "code",
      "metadata": {
        "colab": {
          "base_uri": "https://localhost:8080/",
          "height": 1000
        },
        "id": "naked-nutrition",
        "outputId": "dbe3a3e7-f41a-4803-e3ff-409dd5564d92"
      },
      "source": [
        "for epoch in range(10):\n",
        "        # train for one epoch, printing every 10 iterations\n",
        "        train_one_epoch(model, optimizer, dataloader_train, device, epoch, print_freq=30)\n",
        "        # update the learning rate\n",
        "        lr_scheduler.step()\n",
        "        # evaluate on the test dataset\n",
        "        evaluate(model, dataloader_val, device=device)"
      ],
      "id": "naked-nutrition",
      "execution_count": 10,
      "outputs": [
        {
          "output_type": "stream",
          "text": [
            "/usr/local/lib/python3.7/dist-packages/torch/nn/functional.py:718: UserWarning: Named tensors and all their associated APIs are an experimental feature and subject to change. Please do not use them for anything important until they are released as stable. (Triggered internally at  /pytorch/c10/core/TensorImpl.h:1156.)\n",
            "  return torch.max_pool2d(input, kernel_size, stride, padding, dilation, ceil_mode)\n"
          ],
          "name": "stderr"
        },
        {
          "output_type": "stream",
          "text": [
            "Epoch: [0]  [ 0/93]  eta: 0:05:32  lr: 0.000059  loss: 3.2895 (3.2895)  loss_classifier: 3.0594 (3.0594)  loss_box_reg: 0.0367 (0.0367)  loss_objectness: 0.1758 (0.1758)  loss_rpn_box_reg: 0.0176 (0.0176)  time: 3.5792  data: 0.9906  max mem: 10467\n",
            "Epoch: [0]  [30/93]  eta: 0:02:50  lr: 0.001688  loss: 0.7739 (1.1667)  loss_classifier: 0.3972 (0.8449)  loss_box_reg: 0.2107 (0.1963)  loss_objectness: 0.0463 (0.1135)  loss_rpn_box_reg: 0.0089 (0.0120)  time: 2.7183  data: 0.0682  max mem: 10731\n",
            "Epoch: [0]  [60/93]  eta: 0:01:30  lr: 0.003317  loss: 0.6604 (0.9210)  loss_classifier: 0.3311 (0.5960)  loss_box_reg: 0.3024 (0.2495)  loss_objectness: 0.0098 (0.0668)  loss_rpn_box_reg: 0.0050 (0.0088)  time: 2.7395  data: 0.0700  max mem: 10731\n",
            "Epoch: [0]  [90/93]  eta: 0:00:08  lr: 0.004946  loss: 0.6238 (0.8330)  loss_classifier: 0.3198 (0.5110)  loss_box_reg: 0.2700 (0.2645)  loss_objectness: 0.0092 (0.0495)  loss_rpn_box_reg: 0.0040 (0.0080)  time: 2.7421  data: 0.0675  max mem: 10731\n",
            "Epoch: [0]  [92/93]  eta: 0:00:02  lr: 0.005000  loss: 0.5878 (0.8275)  loss_classifier: 0.3047 (0.5066)  loss_box_reg: 0.2642 (0.2645)  loss_objectness: 0.0076 (0.0486)  loss_rpn_box_reg: 0.0040 (0.0079)  time: 2.6336  data: 0.0660  max mem: 10731\n",
            "Epoch: [0] Total time: 0:04:12 (2.7128 s / it)\n",
            "creating index...\n",
            "index created!\n",
            "Test:  [ 0/26]  eta: 0:01:11  model_time: 1.4464 (1.4464)  evaluator_time: 0.0700 (0.0700)  time: 2.7472  data: 1.1447  max mem: 10731\n",
            "Test:  [25/26]  eta: 0:00:01  model_time: 1.3723 (1.3435)  evaluator_time: 0.0368 (0.0454)  time: 1.5461  data: 0.0818  max mem: 10731\n",
            "Test: Total time: 0:00:41 (1.5973 s / it)\n",
            "Averaged stats: model_time: 1.3723 (1.3435)  evaluator_time: 0.0368 (0.0454)\n",
            "Accumulating evaluation results...\n",
            "DONE (t=0.31s).\n",
            "IoU metric: bbox\n",
            " Average Precision  (AP) @[ IoU=0.50:0.95 | area=   all | maxDets=100 ] = 0.081\n",
            " Average Precision  (AP) @[ IoU=0.50      | area=   all | maxDets=100 ] = 0.179\n",
            " Average Precision  (AP) @[ IoU=0.75      | area=   all | maxDets=100 ] = 0.042\n",
            " Average Precision  (AP) @[ IoU=0.50:0.95 | area= small | maxDets=100 ] = 0.000\n",
            " Average Precision  (AP) @[ IoU=0.50:0.95 | area=medium | maxDets=100 ] = 0.000\n",
            " Average Precision  (AP) @[ IoU=0.50:0.95 | area= large | maxDets=100 ] = 0.093\n",
            " Average Recall     (AR) @[ IoU=0.50:0.95 | area=   all | maxDets=  1 ] = 0.180\n",
            " Average Recall     (AR) @[ IoU=0.50:0.95 | area=   all | maxDets= 10 ] = 0.295\n",
            " Average Recall     (AR) @[ IoU=0.50:0.95 | area=   all | maxDets=100 ] = 0.298\n",
            " Average Recall     (AR) @[ IoU=0.50:0.95 | area= small | maxDets=100 ] = 0.000\n",
            " Average Recall     (AR) @[ IoU=0.50:0.95 | area=medium | maxDets=100 ] = 0.000\n",
            " Average Recall     (AR) @[ IoU=0.50:0.95 | area= large | maxDets=100 ] = 0.340\n",
            "Epoch: [1]  [ 0/93]  eta: 0:05:39  lr: 0.005000  loss: 0.4618 (0.4618)  loss_classifier: 0.2321 (0.2321)  loss_box_reg: 0.2224 (0.2224)  loss_objectness: 0.0039 (0.0039)  loss_rpn_box_reg: 0.0034 (0.0034)  time: 3.6460  data: 0.9123  max mem: 10731\n",
            "Epoch: [1]  [30/93]  eta: 0:02:55  lr: 0.005000  loss: 0.5358 (0.5565)  loss_classifier: 0.2956 (0.3044)  loss_box_reg: 0.2189 (0.2395)  loss_objectness: 0.0049 (0.0072)  loss_rpn_box_reg: 0.0041 (0.0055)  time: 2.7480  data: 0.0701  max mem: 10731\n",
            "Epoch: [1]  [60/93]  eta: 0:01:31  lr: 0.005000  loss: 0.4221 (0.5104)  loss_classifier: 0.2418 (0.2809)  loss_box_reg: 0.1670 (0.2179)  loss_objectness: 0.0035 (0.0069)  loss_rpn_box_reg: 0.0030 (0.0046)  time: 2.7420  data: 0.0680  max mem: 10731\n",
            "Epoch: [1]  [90/93]  eta: 0:00:08  lr: 0.005000  loss: 0.4246 (0.4870)  loss_classifier: 0.2412 (0.2679)  loss_box_reg: 0.1766 (0.2079)  loss_objectness: 0.0051 (0.0067)  loss_rpn_box_reg: 0.0039 (0.0044)  time: 2.7542  data: 0.0674  max mem: 10731\n",
            "Epoch: [1]  [92/93]  eta: 0:00:02  lr: 0.005000  loss: 0.4549 (0.4907)  loss_classifier: 0.2449 (0.2690)  loss_box_reg: 0.1935 (0.2106)  loss_objectness: 0.0051 (0.0067)  loss_rpn_box_reg: 0.0046 (0.0045)  time: 2.6465  data: 0.0646  max mem: 10731\n",
            "Epoch: [1] Total time: 0:04:14 (2.7379 s / it)\n",
            "creating index...\n",
            "index created!\n",
            "Test:  [ 0/26]  eta: 0:01:09  model_time: 1.3874 (1.3874)  evaluator_time: 0.0668 (0.0668)  time: 2.6696  data: 1.1310  max mem: 10731\n",
            "Test:  [25/26]  eta: 0:00:01  model_time: 1.3812 (1.3473)  evaluator_time: 0.0363 (0.0492)  time: 1.5415  data: 0.0776  max mem: 10731\n",
            "Test: Total time: 0:00:41 (1.6070 s / it)\n",
            "Averaged stats: model_time: 1.3812 (1.3473)  evaluator_time: 0.0363 (0.0492)\n",
            "Accumulating evaluation results...\n",
            "DONE (t=0.29s).\n",
            "IoU metric: bbox\n",
            " Average Precision  (AP) @[ IoU=0.50:0.95 | area=   all | maxDets=100 ] = 0.275\n",
            " Average Precision  (AP) @[ IoU=0.50      | area=   all | maxDets=100 ] = 0.499\n",
            " Average Precision  (AP) @[ IoU=0.75      | area=   all | maxDets=100 ] = 0.283\n",
            " Average Precision  (AP) @[ IoU=0.50:0.95 | area= small | maxDets=100 ] = 0.106\n",
            " Average Precision  (AP) @[ IoU=0.50:0.95 | area=medium | maxDets=100 ] = 0.104\n",
            " Average Precision  (AP) @[ IoU=0.50:0.95 | area= large | maxDets=100 ] = 0.300\n",
            " Average Recall     (AR) @[ IoU=0.50:0.95 | area=   all | maxDets=  1 ] = 0.361\n",
            " Average Recall     (AR) @[ IoU=0.50:0.95 | area=   all | maxDets= 10 ] = 0.519\n",
            " Average Recall     (AR) @[ IoU=0.50:0.95 | area=   all | maxDets=100 ] = 0.528\n",
            " Average Recall     (AR) @[ IoU=0.50:0.95 | area= small | maxDets=100 ] = 0.148\n",
            " Average Recall     (AR) @[ IoU=0.50:0.95 | area=medium | maxDets=100 ] = 0.348\n",
            " Average Recall     (AR) @[ IoU=0.50:0.95 | area= large | maxDets=100 ] = 0.569\n",
            "Epoch: [2]  [ 0/93]  eta: 0:05:46  lr: 0.005000  loss: 0.2303 (0.2303)  loss_classifier: 0.1190 (0.1190)  loss_box_reg: 0.1064 (0.1064)  loss_objectness: 0.0028 (0.0028)  loss_rpn_box_reg: 0.0021 (0.0021)  time: 3.7221  data: 0.9875  max mem: 10731\n",
            "Epoch: [2]  [30/93]  eta: 0:02:55  lr: 0.005000  loss: 0.3741 (0.3777)  loss_classifier: 0.1984 (0.2003)  loss_box_reg: 0.1741 (0.1706)  loss_objectness: 0.0023 (0.0031)  loss_rpn_box_reg: 0.0036 (0.0036)  time: 2.7438  data: 0.0671  max mem: 10731\n",
            "Epoch: [2]  [60/93]  eta: 0:01:31  lr: 0.005000  loss: 0.3716 (0.3664)  loss_classifier: 0.1768 (0.1890)  loss_box_reg: 0.1749 (0.1711)  loss_objectness: 0.0010 (0.0024)  loss_rpn_box_reg: 0.0031 (0.0039)  time: 2.7541  data: 0.0703  max mem: 10731\n",
            "Epoch: [2]  [90/93]  eta: 0:00:08  lr: 0.005000  loss: 0.3069 (0.3510)  loss_classifier: 0.1447 (0.1782)  loss_box_reg: 0.1501 (0.1666)  loss_objectness: 0.0016 (0.0025)  loss_rpn_box_reg: 0.0025 (0.0037)  time: 2.7532  data: 0.0688  max mem: 10731\n",
            "Epoch: [2]  [92/93]  eta: 0:00:02  lr: 0.005000  loss: 0.2817 (0.3480)  loss_classifier: 0.1419 (0.1765)  loss_box_reg: 0.1342 (0.1654)  loss_objectness: 0.0013 (0.0025)  loss_rpn_box_reg: 0.0023 (0.0036)  time: 2.6440  data: 0.0662  max mem: 10731\n",
            "Epoch: [2] Total time: 0:04:15 (2.7420 s / it)\n",
            "creating index...\n",
            "index created!\n",
            "Test:  [ 0/26]  eta: 0:01:06  model_time: 1.3795 (1.3795)  evaluator_time: 0.0529 (0.0529)  time: 2.5518  data: 1.0380  max mem: 10731\n",
            "Test:  [25/26]  eta: 0:00:01  model_time: 1.3729 (1.3420)  evaluator_time: 0.0322 (0.0428)  time: 1.5394  data: 0.0830  max mem: 10731\n",
            "Test: Total time: 0:00:41 (1.5867 s / it)\n",
            "Averaged stats: model_time: 1.3729 (1.3420)  evaluator_time: 0.0322 (0.0428)\n",
            "Accumulating evaluation results...\n",
            "DONE (t=0.25s).\n",
            "IoU metric: bbox\n",
            " Average Precision  (AP) @[ IoU=0.50:0.95 | area=   all | maxDets=100 ] = 0.367\n",
            " Average Precision  (AP) @[ IoU=0.50      | area=   all | maxDets=100 ] = 0.636\n",
            " Average Precision  (AP) @[ IoU=0.75      | area=   all | maxDets=100 ] = 0.398\n",
            " Average Precision  (AP) @[ IoU=0.50:0.95 | area= small | maxDets=100 ] = 0.104\n",
            " Average Precision  (AP) @[ IoU=0.50:0.95 | area=medium | maxDets=100 ] = 0.182\n",
            " Average Precision  (AP) @[ IoU=0.50:0.95 | area= large | maxDets=100 ] = 0.419\n",
            " Average Recall     (AR) @[ IoU=0.50:0.95 | area=   all | maxDets=  1 ] = 0.411\n",
            " Average Recall     (AR) @[ IoU=0.50:0.95 | area=   all | maxDets= 10 ] = 0.559\n",
            " Average Recall     (AR) @[ IoU=0.50:0.95 | area=   all | maxDets=100 ] = 0.564\n",
            " Average Recall     (AR) @[ IoU=0.50:0.95 | area= small | maxDets=100 ] = 0.196\n",
            " Average Recall     (AR) @[ IoU=0.50:0.95 | area=medium | maxDets=100 ] = 0.356\n",
            " Average Recall     (AR) @[ IoU=0.50:0.95 | area= large | maxDets=100 ] = 0.619\n",
            "Epoch: [3]  [ 0/93]  eta: 0:05:33  lr: 0.000500  loss: 0.2080 (0.2080)  loss_classifier: 0.0894 (0.0894)  loss_box_reg: 0.1162 (0.1162)  loss_objectness: 0.0012 (0.0012)  loss_rpn_box_reg: 0.0012 (0.0012)  time: 3.5888  data: 0.8761  max mem: 10731\n",
            "Epoch: [3]  [30/93]  eta: 0:02:54  lr: 0.000500  loss: 0.2625 (0.2793)  loss_classifier: 0.1392 (0.1414)  loss_box_reg: 0.1237 (0.1331)  loss_objectness: 0.0009 (0.0015)  loss_rpn_box_reg: 0.0024 (0.0033)  time: 2.7427  data: 0.0660  max mem: 10731\n",
            "Epoch: [3]  [60/93]  eta: 0:01:31  lr: 0.000500  loss: 0.2520 (0.2768)  loss_classifier: 0.1225 (0.1360)  loss_box_reg: 0.1282 (0.1364)  loss_objectness: 0.0009 (0.0013)  loss_rpn_box_reg: 0.0022 (0.0031)  time: 2.7576  data: 0.0684  max mem: 10731\n",
            "Epoch: [3]  [90/93]  eta: 0:00:08  lr: 0.000500  loss: 0.2566 (0.2674)  loss_classifier: 0.1184 (0.1299)  loss_box_reg: 0.1254 (0.1334)  loss_objectness: 0.0008 (0.0012)  loss_rpn_box_reg: 0.0022 (0.0029)  time: 2.7583  data: 0.0676  max mem: 10731\n",
            "Epoch: [3]  [92/93]  eta: 0:00:02  lr: 0.000500  loss: 0.2633 (0.2681)  loss_classifier: 0.1184 (0.1305)  loss_box_reg: 0.1254 (0.1335)  loss_objectness: 0.0008 (0.0012)  loss_rpn_box_reg: 0.0024 (0.0029)  time: 2.6509  data: 0.0655  max mem: 10731\n",
            "Epoch: [3] Total time: 0:04:14 (2.7395 s / it)\n",
            "creating index...\n",
            "index created!\n",
            "Test:  [ 0/26]  eta: 0:01:09  model_time: 1.3906 (1.3906)  evaluator_time: 0.0566 (0.0566)  time: 2.6574  data: 1.1239  max mem: 10731\n",
            "Test:  [25/26]  eta: 0:00:01  model_time: 1.3533 (1.3252)  evaluator_time: 0.0318 (0.0418)  time: 1.5167  data: 0.0820  max mem: 10731\n",
            "Test: Total time: 0:00:41 (1.5812 s / it)\n",
            "Averaged stats: model_time: 1.3533 (1.3252)  evaluator_time: 0.0318 (0.0418)\n",
            "Accumulating evaluation results...\n",
            "DONE (t=0.23s).\n",
            "IoU metric: bbox\n",
            " Average Precision  (AP) @[ IoU=0.50:0.95 | area=   all | maxDets=100 ] = 0.404\n",
            " Average Precision  (AP) @[ IoU=0.50      | area=   all | maxDets=100 ] = 0.656\n",
            " Average Precision  (AP) @[ IoU=0.75      | area=   all | maxDets=100 ] = 0.442\n",
            " Average Precision  (AP) @[ IoU=0.50:0.95 | area= small | maxDets=100 ] = 0.115\n",
            " Average Precision  (AP) @[ IoU=0.50:0.95 | area=medium | maxDets=100 ] = 0.197\n",
            " Average Precision  (AP) @[ IoU=0.50:0.95 | area= large | maxDets=100 ] = 0.449\n",
            " Average Recall     (AR) @[ IoU=0.50:0.95 | area=   all | maxDets=  1 ] = 0.436\n",
            " Average Recall     (AR) @[ IoU=0.50:0.95 | area=   all | maxDets= 10 ] = 0.578\n",
            " Average Recall     (AR) @[ IoU=0.50:0.95 | area=   all | maxDets=100 ] = 0.583\n",
            " Average Recall     (AR) @[ IoU=0.50:0.95 | area= small | maxDets=100 ] = 0.178\n",
            " Average Recall     (AR) @[ IoU=0.50:0.95 | area=medium | maxDets=100 ] = 0.344\n",
            " Average Recall     (AR) @[ IoU=0.50:0.95 | area= large | maxDets=100 ] = 0.644\n",
            "Epoch: [4]  [ 0/93]  eta: 0:05:36  lr: 0.000500  loss: 0.2721 (0.2721)  loss_classifier: 0.1560 (0.1560)  loss_box_reg: 0.1129 (0.1129)  loss_objectness: 0.0002 (0.0002)  loss_rpn_box_reg: 0.0031 (0.0031)  time: 3.6151  data: 0.9318  max mem: 10731\n",
            "Epoch: [4]  [30/93]  eta: 0:02:54  lr: 0.000500  loss: 0.2474 (0.2553)  loss_classifier: 0.1172 (0.1229)  loss_box_reg: 0.1218 (0.1277)  loss_objectness: 0.0006 (0.0016)  loss_rpn_box_reg: 0.0024 (0.0031)  time: 2.7513  data: 0.0704  max mem: 10731\n",
            "Epoch: [4]  [60/93]  eta: 0:01:31  lr: 0.000500  loss: 0.2698 (0.2545)  loss_classifier: 0.1217 (0.1204)  loss_box_reg: 0.1330 (0.1299)  loss_objectness: 0.0007 (0.0013)  loss_rpn_box_reg: 0.0030 (0.0029)  time: 2.7572  data: 0.0680  max mem: 10731\n",
            "Epoch: [4]  [90/93]  eta: 0:00:08  lr: 0.000500  loss: 0.2153 (0.2451)  loss_classifier: 0.1045 (0.1159)  loss_box_reg: 0.1044 (0.1253)  loss_objectness: 0.0005 (0.0012)  loss_rpn_box_reg: 0.0020 (0.0027)  time: 2.7510  data: 0.0655  max mem: 10731\n",
            "Epoch: [4]  [92/93]  eta: 0:00:02  lr: 0.000500  loss: 0.2364 (0.2448)  loss_classifier: 0.1045 (0.1157)  loss_box_reg: 0.1082 (0.1251)  loss_objectness: 0.0005 (0.0013)  loss_rpn_box_reg: 0.0023 (0.0027)  time: 2.6427  data: 0.0627  max mem: 10731\n",
            "Epoch: [4] Total time: 0:04:14 (2.7369 s / it)\n",
            "creating index...\n",
            "index created!\n",
            "Test:  [ 0/26]  eta: 0:01:09  model_time: 1.4094 (1.4094)  evaluator_time: 0.0521 (0.0521)  time: 2.6648  data: 1.1193  max mem: 10731\n",
            "Test:  [25/26]  eta: 0:00:01  model_time: 1.3468 (1.3231)  evaluator_time: 0.0258 (0.0375)  time: 1.5018  data: 0.0766  max mem: 10731\n",
            "Test: Total time: 0:00:40 (1.5610 s / it)\n",
            "Averaged stats: model_time: 1.3468 (1.3231)  evaluator_time: 0.0258 (0.0375)\n",
            "Accumulating evaluation results...\n",
            "DONE (t=0.22s).\n",
            "IoU metric: bbox\n",
            " Average Precision  (AP) @[ IoU=0.50:0.95 | area=   all | maxDets=100 ] = 0.418\n",
            " Average Precision  (AP) @[ IoU=0.50      | area=   all | maxDets=100 ] = 0.670\n",
            " Average Precision  (AP) @[ IoU=0.75      | area=   all | maxDets=100 ] = 0.474\n",
            " Average Precision  (AP) @[ IoU=0.50:0.95 | area= small | maxDets=100 ] = 0.123\n",
            " Average Precision  (AP) @[ IoU=0.50:0.95 | area=medium | maxDets=100 ] = 0.195\n",
            " Average Precision  (AP) @[ IoU=0.50:0.95 | area= large | maxDets=100 ] = 0.459\n",
            " Average Recall     (AR) @[ IoU=0.50:0.95 | area=   all | maxDets=  1 ] = 0.433\n",
            " Average Recall     (AR) @[ IoU=0.50:0.95 | area=   all | maxDets= 10 ] = 0.574\n",
            " Average Recall     (AR) @[ IoU=0.50:0.95 | area=   all | maxDets=100 ] = 0.578\n",
            " Average Recall     (AR) @[ IoU=0.50:0.95 | area= small | maxDets=100 ] = 0.180\n",
            " Average Recall     (AR) @[ IoU=0.50:0.95 | area=medium | maxDets=100 ] = 0.344\n",
            " Average Recall     (AR) @[ IoU=0.50:0.95 | area= large | maxDets=100 ] = 0.632\n",
            "Epoch: [5]  [ 0/93]  eta: 0:05:31  lr: 0.000500  loss: 0.2071 (0.2071)  loss_classifier: 0.1120 (0.1120)  loss_box_reg: 0.0935 (0.0935)  loss_objectness: 0.0001 (0.0001)  loss_rpn_box_reg: 0.0014 (0.0014)  time: 3.5675  data: 0.8731  max mem: 10731\n",
            "Epoch: [5]  [30/93]  eta: 0:02:54  lr: 0.000500  loss: 0.2214 (0.2214)  loss_classifier: 0.0940 (0.1017)  loss_box_reg: 0.1185 (0.1163)  loss_objectness: 0.0005 (0.0012)  loss_rpn_box_reg: 0.0023 (0.0023)  time: 2.7454  data: 0.0681  max mem: 10731\n",
            "Epoch: [5]  [60/93]  eta: 0:01:31  lr: 0.000500  loss: 0.2443 (0.2331)  loss_classifier: 0.1119 (0.1067)  loss_box_reg: 0.1253 (0.1227)  loss_objectness: 0.0007 (0.0011)  loss_rpn_box_reg: 0.0023 (0.0025)  time: 2.7538  data: 0.0704  max mem: 10731\n",
            "Epoch: [5]  [90/93]  eta: 0:00:08  lr: 0.000500  loss: 0.2331 (0.2343)  loss_classifier: 0.0983 (0.1069)  loss_box_reg: 0.1207 (0.1237)  loss_objectness: 0.0003 (0.0010)  loss_rpn_box_reg: 0.0024 (0.0027)  time: 2.7549  data: 0.0692  max mem: 10731\n",
            "Epoch: [5]  [92/93]  eta: 0:00:02  lr: 0.000500  loss: 0.2217 (0.2334)  loss_classifier: 0.0970 (0.1064)  loss_box_reg: 0.1193 (0.1232)  loss_objectness: 0.0004 (0.0011)  loss_rpn_box_reg: 0.0024 (0.0027)  time: 2.6477  data: 0.0675  max mem: 10731\n",
            "Epoch: [5] Total time: 0:04:14 (2.7384 s / it)\n",
            "creating index...\n",
            "index created!\n",
            "Test:  [ 0/26]  eta: 0:01:06  model_time: 1.3800 (1.3800)  evaluator_time: 0.0438 (0.0438)  time: 2.5427  data: 1.0353  max mem: 10731\n",
            "Test:  [25/26]  eta: 0:00:01  model_time: 1.3487 (1.3243)  evaluator_time: 0.0246 (0.0323)  time: 1.5007  data: 0.0786  max mem: 10731\n",
            "Test: Total time: 0:00:40 (1.5580 s / it)\n",
            "Averaged stats: model_time: 1.3487 (1.3243)  evaluator_time: 0.0246 (0.0323)\n",
            "Accumulating evaluation results...\n",
            "DONE (t=0.22s).\n",
            "IoU metric: bbox\n",
            " Average Precision  (AP) @[ IoU=0.50:0.95 | area=   all | maxDets=100 ] = 0.426\n",
            " Average Precision  (AP) @[ IoU=0.50      | area=   all | maxDets=100 ] = 0.672\n",
            " Average Precision  (AP) @[ IoU=0.75      | area=   all | maxDets=100 ] = 0.479\n",
            " Average Precision  (AP) @[ IoU=0.50:0.95 | area= small | maxDets=100 ] = 0.131\n",
            " Average Precision  (AP) @[ IoU=0.50:0.95 | area=medium | maxDets=100 ] = 0.216\n",
            " Average Precision  (AP) @[ IoU=0.50:0.95 | area= large | maxDets=100 ] = 0.469\n",
            " Average Recall     (AR) @[ IoU=0.50:0.95 | area=   all | maxDets=  1 ] = 0.440\n",
            " Average Recall     (AR) @[ IoU=0.50:0.95 | area=   all | maxDets= 10 ] = 0.582\n",
            " Average Recall     (AR) @[ IoU=0.50:0.95 | area=   all | maxDets=100 ] = 0.586\n",
            " Average Recall     (AR) @[ IoU=0.50:0.95 | area= small | maxDets=100 ] = 0.192\n",
            " Average Recall     (AR) @[ IoU=0.50:0.95 | area=medium | maxDets=100 ] = 0.350\n",
            " Average Recall     (AR) @[ IoU=0.50:0.95 | area= large | maxDets=100 ] = 0.646\n",
            "Epoch: [6]  [ 0/93]  eta: 0:05:37  lr: 0.000050  loss: 0.2481 (0.2481)  loss_classifier: 0.1412 (0.1412)  loss_box_reg: 0.1047 (0.1047)  loss_objectness: 0.0002 (0.0002)  loss_rpn_box_reg: 0.0020 (0.0020)  time: 3.6257  data: 0.9293  max mem: 10731\n",
            "Epoch: [6]  [30/93]  eta: 0:02:54  lr: 0.000050  loss: 0.2058 (0.2373)  loss_classifier: 0.0999 (0.1054)  loss_box_reg: 0.1122 (0.1283)  loss_objectness: 0.0007 (0.0008)  loss_rpn_box_reg: 0.0020 (0.0027)  time: 2.7475  data: 0.0678  max mem: 10731\n",
            "Epoch: [6]  [60/93]  eta: 0:01:31  lr: 0.000050  loss: 0.1826 (0.2230)  loss_classifier: 0.0885 (0.1020)  loss_box_reg: 0.0912 (0.1178)  loss_objectness: 0.0003 (0.0008)  loss_rpn_box_reg: 0.0019 (0.0024)  time: 2.7588  data: 0.0686  max mem: 10731\n",
            "Epoch: [6]  [90/93]  eta: 0:00:08  lr: 0.000050  loss: 0.1962 (0.2230)  loss_classifier: 0.0878 (0.1010)  loss_box_reg: 0.0971 (0.1185)  loss_objectness: 0.0006 (0.0009)  loss_rpn_box_reg: 0.0023 (0.0026)  time: 2.7615  data: 0.0699  max mem: 10731\n",
            "Epoch: [6]  [92/93]  eta: 0:00:02  lr: 0.000050  loss: 0.2037 (0.2245)  loss_classifier: 0.0950 (0.1011)  loss_box_reg: 0.1000 (0.1197)  loss_objectness: 0.0005 (0.0010)  loss_rpn_box_reg: 0.0023 (0.0027)  time: 2.6545  data: 0.0677  max mem: 10731\n",
            "Epoch: [6] Total time: 0:04:15 (2.7421 s / it)\n",
            "creating index...\n",
            "index created!\n",
            "Test:  [ 0/26]  eta: 0:01:06  model_time: 1.4007 (1.4007)  evaluator_time: 0.0482 (0.0482)  time: 2.5742  data: 1.0408  max mem: 10731\n",
            "Test:  [25/26]  eta: 0:00:01  model_time: 1.3502 (1.3250)  evaluator_time: 0.0266 (0.0366)  time: 1.5102  data: 0.0835  max mem: 10731\n",
            "Test: Total time: 0:00:40 (1.5647 s / it)\n",
            "Averaged stats: model_time: 1.3502 (1.3250)  evaluator_time: 0.0266 (0.0366)\n",
            "Accumulating evaluation results...\n",
            "DONE (t=0.22s).\n",
            "IoU metric: bbox\n",
            " Average Precision  (AP) @[ IoU=0.50:0.95 | area=   all | maxDets=100 ] = 0.425\n",
            " Average Precision  (AP) @[ IoU=0.50      | area=   all | maxDets=100 ] = 0.675\n",
            " Average Precision  (AP) @[ IoU=0.75      | area=   all | maxDets=100 ] = 0.477\n",
            " Average Precision  (AP) @[ IoU=0.50:0.95 | area= small | maxDets=100 ] = 0.130\n",
            " Average Precision  (AP) @[ IoU=0.50:0.95 | area=medium | maxDets=100 ] = 0.208\n",
            " Average Precision  (AP) @[ IoU=0.50:0.95 | area= large | maxDets=100 ] = 0.483\n",
            " Average Recall     (AR) @[ IoU=0.50:0.95 | area=   all | maxDets=  1 ] = 0.438\n",
            " Average Recall     (AR) @[ IoU=0.50:0.95 | area=   all | maxDets= 10 ] = 0.579\n",
            " Average Recall     (AR) @[ IoU=0.50:0.95 | area=   all | maxDets=100 ] = 0.582\n",
            " Average Recall     (AR) @[ IoU=0.50:0.95 | area= small | maxDets=100 ] = 0.176\n",
            " Average Recall     (AR) @[ IoU=0.50:0.95 | area=medium | maxDets=100 ] = 0.344\n",
            " Average Recall     (AR) @[ IoU=0.50:0.95 | area= large | maxDets=100 ] = 0.643\n",
            "Epoch: [7]  [ 0/93]  eta: 0:05:36  lr: 0.000050  loss: 0.2292 (0.2292)  loss_classifier: 0.0983 (0.0983)  loss_box_reg: 0.1247 (0.1247)  loss_objectness: 0.0015 (0.0015)  loss_rpn_box_reg: 0.0046 (0.0046)  time: 3.6185  data: 0.9423  max mem: 10731\n",
            "Epoch: [7]  [30/93]  eta: 0:02:54  lr: 0.000050  loss: 0.2005 (0.2154)  loss_classifier: 0.0963 (0.0979)  loss_box_reg: 0.1077 (0.1139)  loss_objectness: 0.0003 (0.0011)  loss_rpn_box_reg: 0.0022 (0.0025)  time: 2.7486  data: 0.0701  max mem: 10731\n",
            "Epoch: [7]  [60/93]  eta: 0:01:31  lr: 0.000050  loss: 0.1930 (0.2130)  loss_classifier: 0.0870 (0.0984)  loss_box_reg: 0.1102 (0.1112)  loss_objectness: 0.0004 (0.0009)  loss_rpn_box_reg: 0.0020 (0.0024)  time: 2.7590  data: 0.0700  max mem: 10731\n"
          ],
          "name": "stdout"
        },
        {
          "output_type": "error",
          "ename": "KeyboardInterrupt",
          "evalue": "ignored",
          "traceback": [
            "\u001b[0;31m---------------------------------------------------------------------------\u001b[0m",
            "\u001b[0;31mKeyboardInterrupt\u001b[0m                         Traceback (most recent call last)",
            "\u001b[0;32m<ipython-input-10-e5f96c93c1f7>\u001b[0m in \u001b[0;36m<module>\u001b[0;34m()\u001b[0m\n\u001b[1;32m      1\u001b[0m \u001b[0;32mfor\u001b[0m \u001b[0mepoch\u001b[0m \u001b[0;32min\u001b[0m \u001b[0mrange\u001b[0m\u001b[0;34m(\u001b[0m\u001b[0;36m10\u001b[0m\u001b[0;34m)\u001b[0m\u001b[0;34m:\u001b[0m\u001b[0;34m\u001b[0m\u001b[0;34m\u001b[0m\u001b[0m\n\u001b[1;32m      2\u001b[0m         \u001b[0;31m# train for one epoch, printing every 10 iterations\u001b[0m\u001b[0;34m\u001b[0m\u001b[0;34m\u001b[0m\u001b[0;34m\u001b[0m\u001b[0m\n\u001b[0;32m----> 3\u001b[0;31m         \u001b[0mtrain_one_epoch\u001b[0m\u001b[0;34m(\u001b[0m\u001b[0mmodel\u001b[0m\u001b[0;34m,\u001b[0m \u001b[0moptimizer\u001b[0m\u001b[0;34m,\u001b[0m \u001b[0mdataloader_train\u001b[0m\u001b[0;34m,\u001b[0m \u001b[0mdevice\u001b[0m\u001b[0;34m,\u001b[0m \u001b[0mepoch\u001b[0m\u001b[0;34m,\u001b[0m \u001b[0mprint_freq\u001b[0m\u001b[0;34m=\u001b[0m\u001b[0;36m30\u001b[0m\u001b[0;34m)\u001b[0m\u001b[0;34m\u001b[0m\u001b[0;34m\u001b[0m\u001b[0m\n\u001b[0m\u001b[1;32m      4\u001b[0m         \u001b[0;31m# update the learning rate\u001b[0m\u001b[0;34m\u001b[0m\u001b[0;34m\u001b[0m\u001b[0;34m\u001b[0m\u001b[0m\n\u001b[1;32m      5\u001b[0m         \u001b[0mlr_scheduler\u001b[0m\u001b[0;34m.\u001b[0m\u001b[0mstep\u001b[0m\u001b[0;34m(\u001b[0m\u001b[0;34m)\u001b[0m\u001b[0;34m\u001b[0m\u001b[0;34m\u001b[0m\u001b[0m\n",
            "\u001b[0;32m/content/engine.py\u001b[0m in \u001b[0;36mtrain_one_epoch\u001b[0;34m(model, optimizer, data_loader, device, epoch, print_freq)\u001b[0m\n\u001b[1;32m     52\u001b[0m             \u001b[0mlr_scheduler\u001b[0m\u001b[0;34m.\u001b[0m\u001b[0mstep\u001b[0m\u001b[0;34m(\u001b[0m\u001b[0;34m)\u001b[0m\u001b[0;34m\u001b[0m\u001b[0;34m\u001b[0m\u001b[0m\n\u001b[1;32m     53\u001b[0m \u001b[0;34m\u001b[0m\u001b[0m\n\u001b[0;32m---> 54\u001b[0;31m         \u001b[0mmetric_logger\u001b[0m\u001b[0;34m.\u001b[0m\u001b[0mupdate\u001b[0m\u001b[0;34m(\u001b[0m\u001b[0mloss\u001b[0m\u001b[0;34m=\u001b[0m\u001b[0mlosses_reduced\u001b[0m\u001b[0;34m,\u001b[0m \u001b[0;34m**\u001b[0m\u001b[0mloss_dict_reduced\u001b[0m\u001b[0;34m)\u001b[0m\u001b[0;34m\u001b[0m\u001b[0;34m\u001b[0m\u001b[0m\n\u001b[0m\u001b[1;32m     55\u001b[0m         \u001b[0mmetric_logger\u001b[0m\u001b[0;34m.\u001b[0m\u001b[0mupdate\u001b[0m\u001b[0;34m(\u001b[0m\u001b[0mlr\u001b[0m\u001b[0;34m=\u001b[0m\u001b[0moptimizer\u001b[0m\u001b[0;34m.\u001b[0m\u001b[0mparam_groups\u001b[0m\u001b[0;34m[\u001b[0m\u001b[0;36m0\u001b[0m\u001b[0;34m]\u001b[0m\u001b[0;34m[\u001b[0m\u001b[0;34m\"lr\"\u001b[0m\u001b[0;34m]\u001b[0m\u001b[0;34m)\u001b[0m\u001b[0;34m\u001b[0m\u001b[0;34m\u001b[0m\u001b[0m\n\u001b[1;32m     56\u001b[0m \u001b[0;34m\u001b[0m\u001b[0m\n",
            "\u001b[0;32m/content/utils.py\u001b[0m in \u001b[0;36mupdate\u001b[0;34m(self, **kwargs)\u001b[0m\n\u001b[1;32m    153\u001b[0m         \u001b[0;32mfor\u001b[0m \u001b[0mk\u001b[0m\u001b[0;34m,\u001b[0m \u001b[0mv\u001b[0m \u001b[0;32min\u001b[0m \u001b[0mkwargs\u001b[0m\u001b[0;34m.\u001b[0m\u001b[0mitems\u001b[0m\u001b[0;34m(\u001b[0m\u001b[0;34m)\u001b[0m\u001b[0;34m:\u001b[0m\u001b[0;34m\u001b[0m\u001b[0;34m\u001b[0m\u001b[0m\n\u001b[1;32m    154\u001b[0m             \u001b[0;32mif\u001b[0m \u001b[0misinstance\u001b[0m\u001b[0;34m(\u001b[0m\u001b[0mv\u001b[0m\u001b[0;34m,\u001b[0m \u001b[0mtorch\u001b[0m\u001b[0;34m.\u001b[0m\u001b[0mTensor\u001b[0m\u001b[0;34m)\u001b[0m\u001b[0;34m:\u001b[0m\u001b[0;34m\u001b[0m\u001b[0;34m\u001b[0m\u001b[0m\n\u001b[0;32m--> 155\u001b[0;31m                 \u001b[0mv\u001b[0m \u001b[0;34m=\u001b[0m \u001b[0mv\u001b[0m\u001b[0;34m.\u001b[0m\u001b[0mitem\u001b[0m\u001b[0;34m(\u001b[0m\u001b[0;34m)\u001b[0m\u001b[0;34m\u001b[0m\u001b[0;34m\u001b[0m\u001b[0m\n\u001b[0m\u001b[1;32m    156\u001b[0m             \u001b[0;32massert\u001b[0m \u001b[0misinstance\u001b[0m\u001b[0;34m(\u001b[0m\u001b[0mv\u001b[0m\u001b[0;34m,\u001b[0m \u001b[0;34m(\u001b[0m\u001b[0mfloat\u001b[0m\u001b[0;34m,\u001b[0m \u001b[0mint\u001b[0m\u001b[0;34m)\u001b[0m\u001b[0;34m)\u001b[0m\u001b[0;34m\u001b[0m\u001b[0;34m\u001b[0m\u001b[0m\n\u001b[1;32m    157\u001b[0m             \u001b[0mself\u001b[0m\u001b[0;34m.\u001b[0m\u001b[0mmeters\u001b[0m\u001b[0;34m[\u001b[0m\u001b[0mk\u001b[0m\u001b[0;34m]\u001b[0m\u001b[0;34m.\u001b[0m\u001b[0mupdate\u001b[0m\u001b[0;34m(\u001b[0m\u001b[0mv\u001b[0m\u001b[0;34m)\u001b[0m\u001b[0;34m\u001b[0m\u001b[0;34m\u001b[0m\u001b[0m\n",
            "\u001b[0;31mKeyboardInterrupt\u001b[0m: "
          ]
        }
      ]
    },
    {
      "cell_type": "code",
      "metadata": {
        "id": "rapid-domestic"
      },
      "source": [
        "torch.save(model.state_dict(), 'faster.pt')"
      ],
      "id": "rapid-domestic",
      "execution_count": 77,
      "outputs": []
    },
    {
      "cell_type": "code",
      "metadata": {
        "id": "JTikffygNxa1"
      },
      "source": [
        "img, target = ds_test[8]"
      ],
      "id": "JTikffygNxa1",
      "execution_count": 43,
      "outputs": []
    },
    {
      "cell_type": "code",
      "metadata": {
        "id": "tGryeia5PtnA"
      },
      "source": [
        "model.eval()\n",
        "ex_out = model([img.to(device)])"
      ],
      "id": "tGryeia5PtnA",
      "execution_count": 46,
      "outputs": []
    },
    {
      "cell_type": "code",
      "metadata": {
        "colab": {
          "base_uri": "https://localhost:8080/"
        },
        "id": "L3pHVsB7Pu5_",
        "outputId": "3fbaa4b5-7507-42ba-ec18-57143ec912da"
      },
      "source": [
        "target"
      ],
      "id": "L3pHVsB7Pu5_",
      "execution_count": 45,
      "outputs": [
        {
          "output_type": "execute_result",
          "data": {
            "text/plain": [
              "{'area': tensor([4.8336e+04, 1.1200e+04, 1.2480e+04, 1.2992e+04, 1.1232e+04, 2.7200e+04,\n",
              "         1.0000e-02, 1.0000e-02, 1.0000e-02, 1.0000e-02]),\n",
              " 'boxes': tensor([[9.6000e+02, 4.5600e+02, 1.1880e+03, 6.6800e+02],\n",
              "         [5.9600e+02, 4.4400e+02, 6.9600e+02, 5.5600e+02],\n",
              "         [6.6000e+02, 3.6400e+02, 7.6400e+02, 4.8400e+02],\n",
              "         [7.9200e+02, 5.0400e+02, 9.0800e+02, 6.1600e+02],\n",
              "         [7.4400e+02, 5.9200e+02, 8.4800e+02, 7.0000e+02],\n",
              "         [7.6400e+02, 3.6800e+02, 9.6400e+02, 5.0400e+02],\n",
              "         [0.0000e+00, 0.0000e+00, 1.0000e-01, 1.0000e-01],\n",
              "         [0.0000e+00, 0.0000e+00, 1.0000e-01, 1.0000e-01],\n",
              "         [0.0000e+00, 0.0000e+00, 1.0000e-01, 1.0000e-01],\n",
              "         [0.0000e+00, 0.0000e+00, 1.0000e-01, 1.0000e-01]]),\n",
              " 'image_id': tensor([8]),\n",
              " 'iscrowd': tensor([0, 0, 0, 0, 0, 0, 0, 0, 0, 0]),\n",
              " 'labels': tensor([2, 5, 1, 1, 1, 4, 0, 0, 0, 0]),\n",
              " 'num_objs': tensor(6)}"
            ]
          },
          "metadata": {
            "tags": []
          },
          "execution_count": 45
        }
      ]
    },
    {
      "cell_type": "code",
      "metadata": {
        "colab": {
          "base_uri": "https://localhost:8080/"
        },
        "id": "OA9-SJikQEqN",
        "outputId": "a50672db-24cd-41d9-f2d3-088289d57999"
      },
      "source": [
        "from collections import Counter\n",
        "total = 0\n",
        "rec = 0\n",
        "for imgs, targets in dataloader_test:\n",
        "  model.eval()\n",
        "  for ind, img in enumerate(imgs):\n",
        "    total += targets[ind]['num_objs'].numpy()\n",
        "    img = img.to(device)\n",
        "    out = model([img])\n",
        "    true_classes=Counter(targets[ind]['labels'].cpu().numpy())\n",
        "    del true_classes[0]\n",
        "    pred_classes = out[0]['labels'][out[0]['scores'] > 0.5].cpu().numpy()\n",
        "    for c in pred_classes:\n",
        "      if c in true_classes and true_classes[c] > 0:\n",
        "        true_classes[c] -= 1\n",
        "    rec += sum(true_classes.values())\n",
        "print('recall', 1-rec/total)"
      ],
      "id": "OA9-SJikQEqN",
      "execution_count": 76,
      "outputs": [
        {
          "output_type": "stream",
          "text": [
            "recall 0.851063829787234\n"
          ],
          "name": "stdout"
        }
      ]
    },
    {
      "cell_type": "code",
      "metadata": {
        "id": "sdweQNOFUK2b"
      },
      "source": [
        ""
      ],
      "id": "sdweQNOFUK2b",
      "execution_count": null,
      "outputs": []
    }
  ]
}